{
 "cells": [
  {
   "cell_type": "markdown",
   "metadata": {},
   "source": [
    "### load in TCGA data"
   ]
  },
  {
   "cell_type": "markdown",
   "metadata": {},
   "source": [
    "1. BRCA stage 1 survival plots using PCA, to KM plots\n",
    "\n",
    "2. BRCA stage 2 survival plots using PCA, to KM plots\n",
    "\n",
    "3. Pan-cancer log rank survival plots\n",
    "\n",
    "4. ipython notebook for figures\n"
   ]
  },
  {
   "cell_type": "code",
   "execution_count": 1,
   "metadata": {
    "collapsed": false
   },
   "outputs": [
    {
     "name": "stderr",
     "output_type": "stream",
     "text": [
      "/cellar/users/btsui/anaconda2/lib/python2.7/site-packages/pandas/computation/__init__.py:19: UserWarning: The installed version of numexpr 2.4.4 is not supported in pandas and will be not be used\n",
      "\n",
      "  UserWarning)\n"
     ]
    }
   ],
   "source": [
    "import matplotlib as mpl\n",
    "\n",
    "mpl.rcParams['pdf.fonttype'] = 42\n",
    "mpl.rcParams['legend.numpoints'] = 1\n",
    "import pandas as pd\n",
    "%matplotlib inline\n",
    "import matplotlib.pyplot as plt\n",
    "import numpy as np\n",
    "from lifelines import KaplanMeierFitter\n",
    "from lifelines.statistics import logrank_test\n",
    "from scipy.stats import ttest_ind\n",
    "import seaborn as sns\n",
    "import os\n",
    "from scipy.stats import f_oneway\n",
    "from sklearn.decomposition import PCA\n",
    "sns.set(style='white')\n"
   ]
  },
  {
   "cell_type": "code",
   "execution_count": 2,
   "metadata": {
    "collapsed": true
   },
   "outputs": [],
   "source": [
    "def loadDf(fname):\n",
    "    with open(fname+'.column.txt') as f:\n",
    "        myIndex=map(lambda s:s.replace(\"\\n\",\"\"), f.readlines())\n",
    "    with open(fname+'.row.txt') as f:\n",
    "        myColumns=map(lambda s:s.replace(\"\\n\",\"\"), f.readlines())\n",
    "    cacheLoad(fname+\".npy\")\n",
    "    tmpMatrix=np.load(cacheName(fname+\".npy\"))\n",
    "    return pd.DataFrame(tmpMatrix,index=myIndex,columns=myColumns)"
   ]
  },
  {
   "cell_type": "code",
   "execution_count": 3,
   "metadata": {
    "collapsed": false
   },
   "outputs": [
    {
     "name": "stderr",
     "output_type": "stream",
     "text": [
      "/cellar/users/btsui/anaconda2/lib/python2.7/site-packages/ipykernel/__main__.py:3: FutureWarning: The pandas.rpy module is deprecated and will be removed in a future version. We refer to external packages like rpy2. \n",
      "See here for a guide on how to port your code to rpy2: http://pandas.pydata.org/pandas-docs/stable/r_interface.html\n",
      "  app.launch_new_instance()\n"
     ]
    }
   ],
   "source": [
    "from rpy2.robjects.packages import importr\n",
    "import rpy2.robjects as robjects\n",
    "import pandas.rpy.common as com\n",
    "stats = importr('stats')"
   ]
  },
  {
   "cell_type": "markdown",
   "metadata": {},
   "source": [
    "## param"
   ]
  },
  {
   "cell_type": "code",
   "execution_count": 5,
   "metadata": {
    "collapsed": true
   },
   "outputs": [],
   "source": [
    "tcgaGeneDfDir='inputData/TCGAmatrix.realign.gene'\n",
    "metaDataDir='inputData/patientDeathVitalDF.csv'\n",
    "hgncConvertedDir=tcgaGeneDfDir+'.hgnc'\n",
    "baseDataOutDir='./DATA_OUT/'\n",
    "meanThreshold=5"
   ]
  },
  {
   "cell_type": "code",
   "execution_count": 6,
   "metadata": {
    "collapsed": false
   },
   "outputs": [],
   "source": [
    "metaDf=pd.DataFrame.from_csv('inputData/patientDeathVitalDF.csv')"
   ]
  },
  {
   "cell_type": "markdown",
   "metadata": {},
   "source": [
    "## load in TCGA data"
   ]
  },
  {
   "cell_type": "code",
   "execution_count": 7,
   "metadata": {
    "collapsed": true
   },
   "outputs": [],
   "source": [
    "def loadDf(fname):\n",
    "    with open(fname+'.column.txt') as f:\n",
    "        myIndex=map(lambda s:s.replace(\"\\n\",\"\"), f.readlines())\n",
    "    with open(fname+'.row.txt') as f:\n",
    "        myColumns=map(lambda s:s.replace(\"\\n\",\"\"), f.readlines())\n",
    "    tmpMatrix=np.load(fname+\".npy\")\n",
    "    return pd.DataFrame(tmpMatrix,index=myIndex,columns=myColumns)"
   ]
  },
  {
   "cell_type": "code",
   "execution_count": 8,
   "metadata": {
    "collapsed": false
   },
   "outputs": [],
   "source": [
    "tcgaGeneDf=loadDf(hgncConvertedDir)"
   ]
  },
  {
   "cell_type": "code",
   "execution_count": 9,
   "metadata": {
    "collapsed": false
   },
   "outputs": [],
   "source": [
    "brcaFullMetaDf=pd.DataFrame.from_csv('./inputData/nationwidechildrens.org_clinical_patient_brca.txt',sep='\\t').iloc[2:]\n",
    "brcaFullMetaDf.index=brcaFullMetaDf.index.str.upper()\n",
    "m1=(metaDf.disease.isin(['BRCA']))\n",
    "subPartialMetaDf=metaDf[m1&(metaDf.sample_type=='TP')&(~metaDf.filename.str.contains('bam'))]\n",
    "algnedFullMeta=brcaFullMetaDf.loc[subPartialMetaDf.participant_id]\n",
    "algnedFullMeta.index=subPartialMetaDf.index\n",
    "subMetaDf=pd.concat([subPartialMetaDf,algnedFullMeta],axis=1)"
   ]
  },
  {
   "cell_type": "code",
   "execution_count": 10,
   "metadata": {
    "collapsed": false,
    "scrolled": true
   },
   "outputs": [],
   "source": [
    "inGeneDf=tcgaGeneDf.loc[:,tcgaGeneDf.columns.isin(subMetaDf.index)].T"
   ]
  },
  {
   "cell_type": "code",
   "execution_count": 11,
   "metadata": {
    "collapsed": false
   },
   "outputs": [],
   "source": [
    "log2Df=np.log2(inGeneDf+1)"
   ]
  },
  {
   "cell_type": "code",
   "execution_count": 12,
   "metadata": {
    "collapsed": false
   },
   "outputs": [],
   "source": [
    "from lifelines import CoxPHFitter"
   ]
  },
  {
   "cell_type": "markdown",
   "metadata": {},
   "source": [
    "## read in VM data"
   ]
  },
  {
   "cell_type": "code",
   "execution_count": 13,
   "metadata": {
    "collapsed": false
   },
   "outputs": [],
   "source": [
    "quantFname='mergedResult'\n",
    "pExtd='.pickle'\n",
    "rawDf=pd.read_pickle('inputData/'+quantFname+pExtd)\n"
   ]
  },
  {
   "cell_type": "code",
   "execution_count": 14,
   "metadata": {
    "collapsed": true
   },
   "outputs": [],
   "source": [
    "expDfTmp=rawDf.loc[:,rawDf.columns.get_level_values(1).isin(['6mg','2-5mg'])].copy()\n",
    "expDf=expDfTmp\n",
    "cls=expDf.columns.get_level_values(0).unique()\n",
    "fstOrderDeDf=pd.concat({cl:(expDf[cl]['6mg']/((expDf[cl]['2-5mg']))).T for cl in cls} ).T\n",
    "meanFstOrderDeDf=fstOrderDeDf.mean(axis=1,level=0)\n",
    "M=meanFstOrderDeDf.as_matrix().copy()\n",
    "meanExprDf=pd.concat({cl:expDfTmp[cl].mean(axis=1,level=0).T for cl in cls}).T\n",
    "Mask=(meanExprDf.min(level=0,axis=1)<5.0).as_matrix().copy() \n",
    "M[Mask]=0"
   ]
  },
  {
   "cell_type": "code",
   "execution_count": 15,
   "metadata": {
    "collapsed": true
   },
   "outputs": [],
   "source": [
    "imputedMeanFoldChangeDf=pd.DataFrame(M,index=meanFstOrderDeDf.index,columns=meanFstOrderDeDf.columns )"
   ]
  },
  {
   "cell_type": "markdown",
   "metadata": {},
   "source": [
    "#### identify cancer specific and non-cancer specific gene lists"
   ]
  },
  {
   "cell_type": "code",
   "execution_count": 111,
   "metadata": {
    "collapsed": true
   },
   "outputs": [],
   "source": [
    "cancerSpecificNew=imputedMeanFoldChangeDf.index[(imputedMeanFoldChangeDf>1.5)[['HT1080','MDA']].all(axis=1)&((imputedMeanFoldChangeDf<1.5)[['HFF']]).all(axis=1)]"
   ]
  },
  {
   "cell_type": "code",
   "execution_count": 112,
   "metadata": {
    "collapsed": true
   },
   "outputs": [],
   "source": [
    "intersectAllNew=imputedMeanFoldChangeDf.index[(imputedMeanFoldChangeDf>1.5)[['HT1080','MDA','HFF']].all(axis=1)]"
   ]
  },
  {
   "cell_type": "code",
   "execution_count": 113,
   "metadata": {
    "collapsed": false
   },
   "outputs": [
    {
     "name": "stdout",
     "output_type": "stream",
     "text": [
      "cancer specific genes:  MRC2, LTBP1, LAMC2, ZNF532, EDN1, LPCAT2, LTBP4, LAMB1, TYRO3, HPS4, HMOX1, DAAM1, FERMT1, JAG1, SMAD7, LFNG, HES1, ID2, TGFBI, TRMT13, PODXL, COL5A1, SYNE1, ZMYM5, EPHB2, ARNTL, VHL, BHLHE40, NAV1, COL4A2, ARHGAP32, NREP, IGF2BP3, SKIL, THBS1, ITGAV, AMIGO2, FRMD6, EFCAB11, TPM1, FURIN, ABL2, LHFPL2, SNX30, TAGLN, KIN, PID1, WDR66, GALNT10, RASEF, NKX3-1, TBC1D2B, RBPJ, NLGN2, TANC2, ABLIM3, PEAK1, DPY19L1, TVP23C, AGTRAP, FAM43A, SDHAP1, COL4A1, MKL1, SIPA1L1, KCTD11, MTND2P28, GTF2IP4, H2BFS, ZNF224\n"
     ]
    }
   ],
   "source": [
    "print 'cancer specific genes: ',', '.join(cancerSpecificNew)"
   ]
  },
  {
   "cell_type": "code",
   "execution_count": 19,
   "metadata": {
    "collapsed": false
   },
   "outputs": [
    {
     "name": "stdout",
     "output_type": "stream",
     "text": [
      "genes reponding in all cell lines :  TMEM132A, JARID2, PLAUR, PHLDB1, SMG6, FSTL3, GADD45B, SRPX, SERPINE1, PFKFB4, FOXP1, FN1, PMEPA1, ZC3H4, ADAM19, SEMA7A, IGF1R, MBOAT2, MARCH4, MYO10, UHRF2, HYOU1, FBXO32, ITGA2, CHST11, JMJD1C, TRIB1, MLXIP, SPHK1, ULK1, FZD8, NDUFA13, TENM3, UBA6-AS1, LINC00504\n"
     ]
    }
   ],
   "source": [
    "print 'genes reponding in all cell lines : ',', '.join(intersectAllNew)"
   ]
  },
  {
   "cell_type": "code",
   "execution_count": 20,
   "metadata": {
    "collapsed": true
   },
   "outputs": [],
   "source": [
    "hannahGeneList=cancerSpecificNew"
   ]
  },
  {
   "cell_type": "markdown",
   "metadata": {},
   "source": [
    "### attach all TCGA BRCA meta data"
   ]
  },
  {
   "cell_type": "code",
   "execution_count": 21,
   "metadata": {
    "collapsed": false
   },
   "outputs": [],
   "source": [
    "histoDf=subMetaDf[['er_status_by_ihc','pr_status_by_ihc','her2_status_by_ihc']].copy()\n",
    "newM=np.zeros(shape=histoDf.shape,dtype=np.int)\n",
    "newM[(histoDf=='Positive').as_matrix()]=1\n",
    "newM[(histoDf=='Negative').as_matrix()]=-1\n",
    "newDf=pd.DataFrame(data=newM,index=histoDf.index,columns=histoDf.columns)\n",
    "newDf.columns=newDf.columns.str.replace('_status_by_ihc','')"
   ]
  },
  {
   "cell_type": "code",
   "execution_count": 22,
   "metadata": {
    "collapsed": false
   },
   "outputs": [],
   "source": [
    "patientSubtypeS=pd.Series(index=newDf.index)\n",
    "patientSubtypeS.loc[((newDf.er==1)|(newDf.pr==1))&(newDf.her2==-1)]='luA'\n",
    "patientSubtypeS.loc[((newDf.er==1)|(newDf.pr==1))&(newDf.her2==1)]='luB'\n",
    "patientSubtypeS.loc[(newDf.er==-1)&(newDf.her2==-1)]='tn'\n",
    "patientSubtypeS.loc[(newDf.er==-1)&(newDf.pr==-1)&(newDf.her2==1)]='her2'\n",
    "patientSubtypeS=patientSubtypeS.fillna('unknown')"
   ]
  },
  {
   "cell_type": "code",
   "execution_count": 23,
   "metadata": {
    "collapsed": false
   },
   "outputs": [],
   "source": [
    "subMetaDf.loc[:,'histoSubtype']=patientSubtypeS[:]"
   ]
  },
  {
   "cell_type": "code",
   "execution_count": 24,
   "metadata": {
    "collapsed": false
   },
   "outputs": [
    {
     "name": "stdout",
     "output_type": "stream",
     "text": [
      "subtype value counts\n"
     ]
    },
    {
     "data": {
      "text/plain": [
       "luA        454\n",
       "unknown    382\n",
       "tn         129\n",
       "luB        129\n",
       "her2        37\n",
       "Name: histoSubtype, dtype: int64"
      ]
     },
     "execution_count": 24,
     "metadata": {},
     "output_type": "execute_result"
    }
   ],
   "source": [
    "print 'subtype value counts'\n",
    "subMetaDf.histoSubtype.value_counts()"
   ]
  },
  {
   "cell_type": "markdown",
   "metadata": {},
   "source": [
    "### subset TCGA BRCA RNAseq data"
   ]
  },
  {
   "cell_type": "code",
   "execution_count": 25,
   "metadata": {
    "collapsed": true
   },
   "outputs": [],
   "source": [
    "myTargetGeneList=hannahGeneList\n",
    "\n",
    "subTcgaDf=tcgaGeneDf.loc[myTargetGeneList,tcgaGeneDf.columns.isin(subMetaDf.index)]\n",
    "log2SubTcgaDf=np.log2(subTcgaDf+1)"
   ]
  },
  {
   "cell_type": "markdown",
   "metadata": {},
   "source": [
    "## check grade assocoitation for PC1"
   ]
  },
  {
   "cell_type": "markdown",
   "metadata": {},
   "source": [
    "check for stage I patients"
   ]
  },
  {
   "cell_type": "markdown",
   "metadata": {},
   "source": [
    "### fit the PCA space"
   ]
  },
  {
   "cell_type": "code",
   "execution_count": 26,
   "metadata": {
    "collapsed": false
   },
   "outputs": [],
   "source": [
    "pca=PCA(n_components=3)"
   ]
  },
  {
   "cell_type": "markdown",
   "metadata": {},
   "source": [
    "### transform the data to PCA space"
   ]
  },
  {
   "cell_type": "code",
   "execution_count": 27,
   "metadata": {
    "collapsed": false
   },
   "outputs": [],
   "source": [
    "pca_low_grade_brca=PCA(n_components=3)\n"
   ]
  },
  {
   "cell_type": "code",
   "execution_count": 28,
   "metadata": {
    "collapsed": true
   },
   "outputs": [],
   "source": [
    "stage='I_II'"
   ]
  },
  {
   "cell_type": "code",
   "execution_count": 29,
   "metadata": {
    "collapsed": false
   },
   "outputs": [
    {
     "name": "stdout",
     "output_type": "stream",
     "text": [
      "(70, 195)\n"
     ]
    },
    {
     "name": "stderr",
     "output_type": "stream",
     "text": [
      "/cellar/users/btsui/anaconda2/lib/python2.7/site-packages/pandas/core/indexing.py:297: SettingWithCopyWarning: \n",
      "A value is trying to be set on a copy of a slice from a DataFrame.\n",
      "Try using .loc[row_indexer,col_indexer] = value instead\n",
      "\n",
      "See the caveats in the documentation: http://pandas.pydata.org/pandas-docs/stable/indexing.html#indexing-view-versus-copy\n",
      "  self.obj[key] = _infer_fill_value(value)\n",
      "/cellar/users/btsui/anaconda2/lib/python2.7/site-packages/pandas/core/indexing.py:477: SettingWithCopyWarning: \n",
      "A value is trying to be set on a copy of a slice from a DataFrame.\n",
      "Try using .loc[row_indexer,col_indexer] = value instead\n",
      "\n",
      "See the caveats in the documentation: http://pandas.pydata.org/pandas-docs/stable/indexing.html#indexing-view-versus-copy\n",
      "  self.obj[item] = s\n"
     ]
    },
    {
     "data": {
      "image/png": "[encoded data removed]",
      "text/plain": [
       "<matplotlib.figure.Figure at 0x7fc50ff8bc90>"
      ]
     },
     "metadata": {},
     "output_type": "display_data"
    }
   ],
   "source": [
    "#!rm DATA_OUT/*\n",
    "stage='I'\n",
    "flip=True\n",
    "topGroupLabel,bottomGroupLabel='CINP high','CINP low'\n",
    "\n",
    "stageToPatternDict={stage:\"^Stage \"+stage+\"[ABC]?$\" for stage in ['I','II','III','IV']}\n",
    "stageToPatternDict['all']='.*'\n",
    "\n",
    "\"\"\"\n",
    "***CHANGE paramter stage to see surival stat from the other stage\n",
    "\"\"\"\n",
    "\n",
    "#pca=PCA(n_components=3)\n",
    "\n",
    "cancerType='BRCA'\n",
    "quantile=0.3\n",
    "myTargetGeneList=hannahGeneList\n",
    "\n",
    "StageRegex1=stageToPatternDict[stage]\n",
    "#StageRegex2=stageToPatternDict['II']\n",
    "#daysThres=365.25*5\n",
    "stageMask=(metaDf.grade.fillna('').str.contains(StageRegex1))\\\n",
    "                   #|(metaDf.grade.fillna('').str.contains(StageRegex1))\n",
    "#censorMask=(~metaDf.E)&(metaDf['T']<daysThres) #take out the data censored\n",
    "mySubMetaDf=metaDf[(metaDf.disease==cancerType)&stageMask\n",
    "                   &(metaDf.sample_type=='TP')&(~metaDf.filename.str.contains('bam'))]\n",
    "subTcgaDf=tcgaGeneDf.loc[tcgaGeneDf.index.isin(myTargetGeneList),tcgaGeneDf.columns.isin(mySubMetaDf.index)]\n",
    "log2SubTcgaDf=np.log2(subTcgaDf+1)\n",
    "print log2SubTcgaDf.shape\n",
    "pcaM=pca.fit_transform(log2SubTcgaDf.T)\n",
    "pca_low_grade_brca.fit(log2SubTcgaDf.T)\n",
    "patientPcaDf=pd.DataFrame(pcaM,index=log2SubTcgaDf.columns,columns=['1','2','3'])\n",
    "meanA=log2SubTcgaDf.loc[:,patientPcaDf['1']<=patientPcaDf['1'].quantile(quantile)].mean().mean()\n",
    "meanB=log2SubTcgaDf.loc[:,patientPcaDf['1']>=patientPcaDf['1'].quantile(1-quantile)].mean().mean()\n",
    "expressionS=(-patientPcaDf['1']) if meanB<meanA else patientPcaDf['1']\n",
    "#save also the pca plot\n",
    "mySubMetaDf.loc[:,'VM_score']=expressionS.loc[:]\n",
    "#patientPathwayS.iloc[]\n",
    "lExprPatients=expressionS.index[expressionS<=expressionS.quantile(quantile)]\n",
    "hExprPatients=expressionS.index[expressionS>=expressionS.quantile(1-quantile)]\n",
    "lDf,hDf=metaDf.loc[metaDf.index.isin(lExprPatients)],metaDf.loc[metaDf.index.isin(hExprPatients)]\n",
    "result=logrank_test(hDf['T'],lDf['T'],hDf['E'],lDf['E']) #use log rank instead\n",
    "\n",
    "kmf = KaplanMeierFitter()\n",
    "ax = plt.subplot(111)\n",
    "kmf.fit(lDf['T'], event_observed=lDf['E'], label=bottomGroupLabel)\n",
    "kmf.plot(ax=ax,show_censors=True,ci_show=False)\n",
    "kmf.fit(hDf['T'], event_observed=hDf['E'], label=topGroupLabel)\n",
    "kmf.plot(ax=ax,show_censors=True,ci_show=False)\n",
    "ax.set_title('n per group='+str(lDf.shape[0]) + \" P=\"+str(result.p_value)[:6])\n",
    "ax.set_xlabel('days')\n",
    "ax.set_ylabel('Cumulative survival rate %')\n",
    "sns.despine()\n",
    "\n",
    "ax.figure.savefig(baseDataOutDir+'/BRCA_stage_'+stage+'_KM'+'.eps', bbox_inches='tight', pad_inches=0)"
   ]
  },
  {
   "cell_type": "code",
   "execution_count": 30,
   "metadata": {
    "collapsed": false
   },
   "outputs": [
    {
     "data": {
      "text/plain": [
       "'/cellar/users/btsui/Project/STEPHANIE_FINAL/./DATA_OUT//BRCA_stage_I_KM.eps'"
      ]
     },
     "execution_count": 30,
     "metadata": {},
     "output_type": "execute_result"
    }
   ],
   "source": [
    "os.getcwd()+'/'+baseDataOutDir+'/BRCA_stage_'+stage+'_KM'+'.eps'"
   ]
  },
  {
   "cell_type": "code",
   "execution_count": 31,
   "metadata": {
    "collapsed": false
   },
   "outputs": [],
   "source": [
    "subMetaDf.loc[:,'VM_score']=expressionS.loc[:]"
   ]
  },
  {
   "cell_type": "code",
   "execution_count": 32,
   "metadata": {
    "collapsed": false
   },
   "outputs": [
    {
     "data": {
      "image/png": "[encoded data removed]",
      "text/plain": [
       "<matplotlib.figure.Figure at 0x7fc4d220a9d0>"
      ]
     },
     "metadata": {},
     "output_type": "display_data"
    }
   ],
   "source": [
    "ax=expressionS.hist()\n",
    "ax.set_xlabel('PC1')\n",
    "ax.set_ylabel('# of patients')\n",
    "sns.despine()\n",
    "ax.figure.savefig(baseDataOutDir+'/BRCA_stage_'+stage+'_PC1.eps')"
   ]
  },
  {
   "cell_type": "code",
   "execution_count": 33,
   "metadata": {
    "collapsed": false,
    "scrolled": true
   },
   "outputs": [
    {
     "data": {
      "image/png": "[encoded data removed]",
      "text/plain": [
       "<matplotlib.figure.Figure at 0x7fc4d2522e50>"
      ]
     },
     "metadata": {},
     "output_type": "display_data"
    }
   ],
   "source": [
    "subType_VMScoreDf=subMetaDf[\n",
    "    #subMetaDf.grade.str.contains(StageRegex2)\n",
    "    subMetaDf[['VM_score','histoSubtype']].notnull().all(axis=1)\n",
    "                          ][['VM_score','histoSubtype']].copy()\n",
    "g=sns.boxplot(data=subType_VMScoreDf,\n",
    "            x='histoSubtype',y='VM_score',color='White')\n"
   ]
  },
  {
   "cell_type": "code",
   "execution_count": 34,
   "metadata": {
    "collapsed": false
   },
   "outputs": [
    {
     "data": {
      "text/plain": [
       "<matplotlib.text.Text at 0x7fc4821fc7d0>"
      ]
     },
     "execution_count": 34,
     "metadata": {},
     "output_type": "execute_result"
    }
   ],
   "source": [
    "\n",
    "m=subType_VMScoreDf.histoSubtype=='tn'\n",
    "t,p=ttest_ind(subType_VMScoreDf[m].VM_score,subType_VMScoreDf[~m].VM_score)\n",
    "g.set_title('t:{t} p:{p}'.format(t=t,p=p))"
   ]
  },
  {
   "cell_type": "code",
   "execution_count": 35,
   "metadata": {
    "collapsed": false
   },
   "outputs": [],
   "source": [
    "g.figure.savefig(baseDataOutDir+'VM_score_tcga_subtype.pdf')"
   ]
  },
  {
   "cell_type": "code",
   "execution_count": 36,
   "metadata": {
    "collapsed": false
   },
   "outputs": [
    {
     "data": {
      "image/png": "[encoded data removed]",
      "text/plain": [
       "<matplotlib.figure.Figure at 0x7fc4d39aa310>"
      ]
     },
     "metadata": {},
     "output_type": "display_data"
    }
   ],
   "source": [
    "\"\"\"\n",
    "show the distribution of subtype across patient split\n",
    "\"\"\"\n",
    "tmpDf=subMetaDf[subMetaDf.index.isin(lDf.index)|subMetaDf.index.isin(hDf.index)].copy()\n",
    "tmpDf.loc[lDf.index,'group']=bottomGroupLabel\n",
    "tmpDf.loc[hDf.index,'group']=topGroupLabel\n",
    "assignedDf=tmpDf[~tmpDf.group.isnull()]\n",
    "plotDf=assignedDf.groupby('group').histoSubtype.value_counts().reset_index(name='count')\n",
    "plotDf.columns=['group','subtype','count']\n",
    "ax=sns.barplot(data=plotDf,x='group',hue='subtype',y='count',hue_order=['luA','luB','tn','her2'])\n",
    "ax.set_ylabel('# of patients')\n",
    "ax.set_xlabel('')\n",
    "sns.despine()\n",
    "ax.figure.savefig(baseDataOutDir+'/BRCA_stage_'+stage+'_subtype.eps')"
   ]
  },
  {
   "cell_type": "code",
   "execution_count": 37,
   "metadata": {
    "collapsed": false
   },
   "outputs": [
    {
     "name": "stdout",
     "output_type": "stream",
     "text": [
      "/cellar/users/btsui/Project/STEPHANIE_FINAL/DATA_OUT/\r\n"
     ]
    }
   ],
   "source": [
    "!echo $PWD/DATA_OUT/"
   ]
  },
  {
   "cell_type": "code",
   "execution_count": 38,
   "metadata": {
    "collapsed": false
   },
   "outputs": [
    {
     "data": {
      "text/plain": [
       "luA        46\n",
       "unknown    41\n",
       "tn         15\n",
       "luB        14\n",
       "her2        2\n",
       "Name: histoSubtype, dtype: int64"
      ]
     },
     "execution_count": 38,
     "metadata": {},
     "output_type": "execute_result"
    }
   ],
   "source": [
    "assignedDf.histoSubtype.value_counts()"
   ]
  },
  {
   "cell_type": "markdown",
   "metadata": {},
   "source": [
    "### cox regression"
   ]
  },
  {
   "cell_type": "code",
   "execution_count": 39,
   "metadata": {
    "collapsed": false
   },
   "outputs": [],
   "source": [
    "subMetaDf.loc[:,'VM_score']=expressionS.loc[:]"
   ]
  },
  {
   "cell_type": "code",
   "execution_count": 40,
   "metadata": {
    "collapsed": false
   },
   "outputs": [
    {
     "data": {
      "text/plain": [
       "((1131, 132), 195)"
      ]
     },
     "execution_count": 40,
     "metadata": {},
     "output_type": "execute_result"
    }
   ],
   "source": [
    "subMetaDf.shape,len(expressionS)"
   ]
  },
  {
   "cell_type": "code",
   "execution_count": 41,
   "metadata": {
    "collapsed": true
   },
   "outputs": [],
   "source": [
    "coxInDf=subMetaDf[subMetaDf.VM_score.notnull()].copy()"
   ]
  },
  {
   "cell_type": "code",
   "execution_count": 42,
   "metadata": {
    "collapsed": false
   },
   "outputs": [
    {
     "name": "stderr",
     "output_type": "stream",
     "text": [
      "/cellar/users/btsui/anaconda2/lib/python2.7/site-packages/ipykernel/__main__.py:1: FutureWarning: currently extract(expand=None) means expand=False (return Index/Series/DataFrame) but in a future version of pandas this will be changed to expand=True (return DataFrame)\n",
      "  if __name__ == '__main__':\n"
     ]
    }
   ],
   "source": [
    "stageRawS=coxInDf.grade.str.extract('([IV]+)')"
   ]
  },
  {
   "cell_type": "code",
   "execution_count": 43,
   "metadata": {
    "collapsed": false
   },
   "outputs": [],
   "source": [
    "digitToNumeric=pd.Series({'I':1,'II':2,'III':3,'IV':4})"
   ]
  },
  {
   "cell_type": "code",
   "execution_count": 44,
   "metadata": {
    "collapsed": false
   },
   "outputs": [],
   "source": [
    "cleanCoxDf=coxInDf[['age','VM_score','E','T']]"
   ]
  },
  {
   "cell_type": "code",
   "execution_count": 45,
   "metadata": {
    "collapsed": false
   },
   "outputs": [],
   "source": [
    "cox_VM_score=coxInDf.VM_score.values"
   ]
  },
  {
   "cell_type": "code",
   "execution_count": 46,
   "metadata": {
    "collapsed": false
   },
   "outputs": [
    {
     "name": "stderr",
     "output_type": "stream",
     "text": [
      "/cellar/users/btsui/anaconda2/lib/python2.7/site-packages/ipykernel/__main__.py:1: SettingWithCopyWarning: \n",
      "A value is trying to be set on a copy of a slice from a DataFrame.\n",
      "Try using .loc[row_indexer,col_indexer] = value instead\n",
      "\n",
      "See the caveats in the documentation: http://pandas.pydata.org/pandas-docs/stable/indexing.html#indexing-view-versus-copy\n",
      "  if __name__ == '__main__':\n"
     ]
    }
   ],
   "source": [
    "cleanCoxDf['stage']=digitToNumeric.loc[stageRawS.fillna('').values].values"
   ]
  },
  {
   "cell_type": "code",
   "execution_count": 47,
   "metadata": {
    "collapsed": false
   },
   "outputs": [],
   "source": [
    "multI=pd.MultiIndex.from_arrays([coxInDf.histoSubtype.index,coxInDf.histoSubtype.values])\n",
    "myCoxTable=pd.Series(index=multI,data=[1]*coxInDf.shape[0]\n",
    "         ).unstack().fillna(0)\n"
   ]
  },
  {
   "cell_type": "code",
   "execution_count": 48,
   "metadata": {
    "collapsed": false
   },
   "outputs": [],
   "source": [
    "myCoxTable.columns='subType_'+myCoxTable.columns"
   ]
  },
  {
   "cell_type": "code",
   "execution_count": 49,
   "metadata": {
    "collapsed": false
   },
   "outputs": [],
   "source": [
    "mergedCoxDf=pd.concat([cleanCoxDf, myCoxTable],axis=1)"
   ]
  },
  {
   "cell_type": "code",
   "execution_count": 50,
   "metadata": {
    "collapsed": false
   },
   "outputs": [],
   "source": [
    "validCoxDf=mergedCoxDf.dropna()"
   ]
  },
  {
   "cell_type": "code",
   "execution_count": 51,
   "metadata": {
    "collapsed": false
   },
   "outputs": [
    {
     "name": "stderr",
     "output_type": "stream",
     "text": [
      "/cellar/users/btsui/anaconda2/lib/python2.7/site-packages/ipykernel/__main__.py:5: SettingWithCopyWarning: \n",
      "A value is trying to be set on a copy of a slice from a DataFrame.\n",
      "Try using .loc[row_indexer,col_indexer] = value instead\n",
      "\n",
      "See the caveats in the documentation: http://pandas.pydata.org/pandas-docs/stable/indexing.html#indexing-view-versus-copy\n"
     ]
    },
    {
     "data": {
      "text/plain": [
       "<lifelines.CoxPHFitter: fitted with 194 observations, 181 censored>"
      ]
     },
     "execution_count": 51,
     "metadata": {},
     "output_type": "execute_result"
    }
   ],
   "source": [
    "from lifelines import CoxPHFitter\n",
    "\n",
    "cf = CoxPHFitter()\n",
    "\n",
    "validCoxDf['E']=validCoxDf['E'].astype(np.int64)\n",
    "\n",
    "tcgacox=coxInDf\n",
    "\n",
    "validCoxDf['stage'].isnull().any()\n",
    "\n",
    "subCoxDf=validCoxDf[['VM_score','age','subType_luB',\n",
    "                   'subType_luA','subType_tn','E','T']]\n",
    "cf.fit(subCoxDf,'T',event_col='E')"
   ]
  },
  {
   "cell_type": "markdown",
   "metadata": {},
   "source": [
    "## check grade on PC"
   ]
  },
  {
   "cell_type": "code",
   "execution_count": 52,
   "metadata": {
    "collapsed": false
   },
   "outputs": [],
   "source": [
    "luAPatients=subMetaDf.index[subMetaDf.histoSubtype=='luA']"
   ]
  },
  {
   "cell_type": "code",
   "execution_count": 53,
   "metadata": {
    "collapsed": false
   },
   "outputs": [
    {
     "name": "stdout",
     "output_type": "stream",
     "text": [
      "[ 0.28245389  0.10904684  0.07232184]\n"
     ]
    },
    {
     "data": {
      "text/plain": [
       "<matplotlib.text.Text at 0x7fc4d2020090>"
      ]
     },
     "execution_count": 53,
     "metadata": {},
     "output_type": "execute_result"
    },
    {
     "data": {
      "image/png": "[encoded data removed]",
      "text/plain": [
       "<matplotlib.figure.Figure at 0x7fc482159550>"
      ]
     },
     "metadata": {},
     "output_type": "display_data"
    }
   ],
   "source": [
    "stage='all'\n",
    "myGrades=['Stage I','Stage II','Stage IIA','Stage IIB','Stage IIIA','Stage IIIB','Stage IIIC','Stage IV']\n",
    "\n",
    "pca=PCA(n_components=3)\n",
    "\n",
    "cancerType='BRCA'\n",
    "myTargetGeneList=hannahGeneList\n",
    "\n",
    "StageRegex=stageToPatternDict[stage]\n",
    "#daysThres=365.25*5\n",
    "\n",
    "mySubMetaDf=metaDf[(metaDf.disease==cancerType)&(metaDf.grade.fillna('').str.contains(StageRegex))&(metaDf.sample_type=='TP')&(~metaDf.filename.str.contains('bam'))]\n",
    "subTcgaDf=tcgaGeneDf.loc[tcgaGeneDf.index.isin(myTargetGeneList),tcgaGeneDf.columns.isin(mySubMetaDf.index)]\n",
    "log2SubTcgaDf=np.log2(subTcgaDf+1)\n",
    "pcaM=pca.fit_transform(log2SubTcgaDf.T)\n",
    "patientPcaDf=pd.DataFrame(pcaM,index=log2SubTcgaDf.columns,columns=['1','2','3'])\n",
    "tmpSubMetaDf=subMetaDf.loc[subMetaDf.index.isin(mySubMetaDf.index)].copy()\n",
    "tmpSubMetaDf['PC3']=patientPcaDf['3']\n",
    "print pca.explained_variance_ratio_\n",
    "g=sns.boxplot(data=tmpSubMetaDf[['grade','PC3','histoSubtype']],x='grade',y='PC3',hue='histoSubtype',order=myGrades)\n",
    "\n",
    "g.set_xlabel('stage')"
   ]
  },
  {
   "cell_type": "code",
   "execution_count": 54,
   "metadata": {
    "collapsed": false
   },
   "outputs": [
    {
     "name": "stdout",
     "output_type": "stream",
     "text": [
      "[ 0.28245389  0.10904684  0.07232184]\n"
     ]
    },
    {
     "data": {
      "image/png": "[encoded data removed]",
      "text/plain": [
       "<matplotlib.figure.Figure at 0x7fc47ee1b510>"
      ]
     },
     "metadata": {},
     "output_type": "display_data"
    }
   ],
   "source": [
    "stage='all'\n",
    "myGrades=['Stage I','Stage II','Stage IIA','Stage IIB','Stage IIIA','Stage IIIB','Stage IIIC','Stage IV']\n",
    "\n",
    "pca=PCA(n_components=3)\n",
    "\n",
    "cancerType='BRCA'\n",
    "myTargetGeneList=hannahGeneList\n",
    "\n",
    "StageRegex=stageToPatternDict[stage]\n",
    "\n",
    "mySubMetaDf=metaDf[(metaDf.disease==cancerType)&(metaDf.grade.fillna('').str.contains(StageRegex))&(metaDf.sample_type=='TP')&(~metaDf.filename.str.contains('bam'))]\n",
    "subTcgaDf=tcgaGeneDf.loc[tcgaGeneDf.index.isin(myTargetGeneList),tcgaGeneDf.columns.isin(mySubMetaDf.index)]\n",
    "log2SubTcgaDf=np.log2(subTcgaDf+1)\n",
    "pcaM=pca.fit_transform(log2SubTcgaDf.T)\n",
    "patientPcaDf=pd.DataFrame(pcaM,index=log2SubTcgaDf.columns,columns=['1','2','3'])\n",
    "tmpSubMetaDf=subMetaDf.loc[subMetaDf.index.isin(mySubMetaDf.index)].copy()\n",
    "tmpSubMetaDf['PC3']=patientPcaDf['3']\n",
    "tmpSubMetaDf['simplifiedGrade']=tmpSubMetaDf.grade.str.replace('[ABC]','')\n",
    "print pca.explained_variance_ratio_\n",
    "g=sns.boxplot(data=tmpSubMetaDf[['simplifiedGrade','PC3','histoSubtype']],x='simplifiedGrade',y='PC3',order=['Stage I','Stage II','Stage III','Stage IV'])\n",
    "#tmpSubMetaDf.histoSubtype.isnull().any()\n",
    "#tmpSubMetaDf.grade\n",
    "g.set_xlabel('stage')\n",
    "g.figure.savefig(baseDataOutDir+'/BRCA_stage_'+stage+'_boxPlot'+'.pdf')"
   ]
  },
  {
   "cell_type": "code",
   "execution_count": 55,
   "metadata": {
    "collapsed": false
   },
   "outputs": [],
   "source": [
    "lowGradePatient,highGradePatient=tmpSubMetaDf.PC3[tmpSubMetaDf.grade.str.contains('Stage III|V')],tmpSubMetaDf.PC3[tmpSubMetaDf.grade.str.contains('Stage I{1,2}[ABC]')]\n",
    "x,y= robjects.FloatVector(lowGradePatient),robjects.FloatVector(highGradePatient)"
   ]
  },
  {
   "cell_type": "code",
   "execution_count": 56,
   "metadata": {
    "collapsed": false
   },
   "outputs": [
    {
     "data": {
      "text/plain": [
       "MannwhitneyuResult(statistic=83735.0, pvalue=9.9881268350709917e-06)"
      ]
     },
     "execution_count": 56,
     "metadata": {},
     "output_type": "execute_result"
    }
   ],
   "source": [
    "from scipy.stats import mannwhitneyu\n",
    "mannwhitneyu(highGradePatient,lowGradePatient)"
   ]
  },
  {
   "cell_type": "code",
   "execution_count": 57,
   "metadata": {
    "collapsed": false
   },
   "outputs": [
    {
     "data": {
      "image/png": "[encoded data removed]",
      "text/plain": [
       "<matplotlib.figure.Figure at 0x7fc481ffcd50>"
      ]
     },
     "metadata": {},
     "output_type": "display_data"
    }
   ],
   "source": [
    "myHueOrder=['Stage I','Stage II','Stage III','Stage IV']\n",
    "expressionS=patientPcaDf['3']\n",
    "lExprPatients=expressionS.index[expressionS<=expressionS.quantile(quantile)]\n",
    "hExprPatients=expressionS.index[expressionS>=expressionS.quantile(1-quantile)]\n",
    "lDf,hDf=metaDf.loc[metaDf.index.isin(lExprPatients)],metaDf.loc[metaDf.index.isin(hExprPatients)]\n",
    "tmpDf=subMetaDf[subMetaDf.index.isin(lDf.index)|subMetaDf.index.isin(hDf.index)].copy()\n",
    "tmpDf.loc[lDf.index,'group']=bottomGroupLabel\n",
    "tmpDf.loc[hDf.index,'group']=topGroupLabel\n",
    "assignedDf=tmpDf[~tmpDf.group.isnull()]\n",
    "assignedDf.loc[:,'stage']=assignedDf.grade.str.replace(r'[ABC]','')\n",
    "pltDf=assignedDf.groupby('group').stage.value_counts().reset_index(name='count') #hue: stage, x: bottom, top 30, y: count, bar plot\n",
    "pltDf.columns=['group','stage','count']\n",
    "g=sns.barplot( data=pltDf,x='group',y='count',hue='stage',hue_order=myHueOrder)\n",
    "g.set_ylabel('patient count')\n",
    "g.set_xticklabels(['bottom 30% PC3 score group','top 30% PC3 score group'])\n",
    "g.figure.savefig(baseDataOutDir+'/allStage_PCA_30%extremeTile.pdf')"
   ]
  },
  {
   "cell_type": "code",
   "execution_count": 58,
   "metadata": {
    "collapsed": false
   },
   "outputs": [],
   "source": [
    "from scipy.stats import chisquare\n",
    "tmpDf=pltDf[pltDf.stage.isin(myHueOrder)]\n"
   ]
  },
  {
   "cell_type": "code",
   "execution_count": 59,
   "metadata": {
    "collapsed": false
   },
   "outputs": [],
   "source": [
    "botDf=tmpDf[tmpDf.group=='bottom 30%'].sort_values('stage')\n",
    "topDf=tmpDf[tmpDf.group=='top 30%'].sort_values('stage')"
   ]
  },
  {
   "cell_type": "code",
   "execution_count": 60,
   "metadata": {
    "collapsed": false
   },
   "outputs": [
    {
     "data": {
      "text/plain": [
       "Power_divergenceResult(statistic=0.0, pvalue=nan)"
      ]
     },
     "execution_count": 60,
     "metadata": {},
     "output_type": "execute_result"
    }
   ],
   "source": [
    "chisquare(f_obs=botDf['count'],f_exp=topDf['count'])"
   ]
  },
  {
   "cell_type": "markdown",
   "metadata": {
    "collapsed": true
   },
   "source": [
    "## VM Expression heatmap"
   ]
  },
  {
   "cell_type": "code",
   "execution_count": 61,
   "metadata": {
    "collapsed": false
   },
   "outputs": [],
   "source": [
    "#get only 2mg and 6mg\n",
    "condSubsetDf=rawDf.loc[:,rawDf.columns.get_level_values(1).isin({'2-5mg','6mg'})]\n",
    "stdThreshold=100\n",
    "geneSubsetDf=condSubsetDf[condSubsetDf.std(axis=1)>stdThreshold]\n",
    "log2Df=np.log2(geneSubsetDf+1)"
   ]
  },
  {
   "cell_type": "code",
   "execution_count": 62,
   "metadata": {
    "collapsed": false
   },
   "outputs": [
    {
     "name": "stderr",
     "output_type": "stream",
     "text": [
      "/cellar/users/btsui/anaconda2/lib/python2.7/site-packages/matplotlib/cbook.py:136: MatplotlibDeprecationWarning: The axisbg attribute was deprecated in version 2.0. Use facecolor instead.\n",
      "  warnings.warn(message, mplDeprecation, stacklevel=1)\n"
     ]
    },
    {
     "data": {
      "image/png": "[encoded data removed]",
      "text/plain": [
       "<matplotlib.figure.Figure at 0x7fc4d0e2b650>"
      ]
     },
     "metadata": {},
     "output_type": "display_data"
    }
   ],
   "source": [
    "g=sns.clustermap(log2Df.corr())\n",
    "g.ax_heatmap.yaxis.tick_left()\n",
    "g.ax_heatmap.set_xlabel('')\n",
    "g.ax_heatmap.set_ylabel('')\n",
    "\n",
    "g.fig.savefig('./DATA_OUT/DATA_raw_corr_heatmap.pdf')"
   ]
  },
  {
   "cell_type": "code",
   "execution_count": 63,
   "metadata": {
    "collapsed": false
   },
   "outputs": [],
   "source": [
    "cls=log2Df.columns.get_level_values(0)\n",
    "meanDf,stdDf= log2Df.mean(axis=1,level=0).loc[:,cls],log2Df.std(axis=1,level=0).loc[:,cls] \n",
    "withinZNorm=((log2Df-meanDf.as_matrix())/stdDf.as_matrix()).dropna()\n",
    "corrDf=withinZNorm.corr()\n",
    "m=corrDf.index\n",
    "no2dCorrDf=corrDf.loc[m,m]\n",
    "condAlgnCorrDf=no2dCorrDf.sort_index(axis=0,level=1).sort_index(axis=1,level=1)\n"
   ]
  },
  {
   "cell_type": "code",
   "execution_count": 64,
   "metadata": {
    "collapsed": false
   },
   "outputs": [
    {
     "data": {
      "image/png": "[encoded data removed]",
      "text/plain": [
       "<matplotlib.figure.Figure at 0x7fc4d0eb6b50>"
      ]
     },
     "metadata": {},
     "output_type": "display_data"
    }
   ],
   "source": [
    "g=sns.clustermap(condAlgnCorrDf)\n",
    "g.ax_heatmap.yaxis.tick_left()\n",
    "g.ax_heatmap.set_ylabel('')\n",
    "\n",
    "g.ax_heatmap.set_xlabel('')\n",
    "g.fig.savefig('./DATA_OUT/DATA_zTranformed_corr_clustermap.pdf')"
   ]
  },
  {
   "cell_type": "markdown",
   "metadata": {},
   "source": [
    "### VM PCA"
   ]
  },
  {
   "cell_type": "code",
   "execution_count": 65,
   "metadata": {
    "collapsed": false,
    "scrolled": false
   },
   "outputs": [
    {
     "name": "stdout",
     "output_type": "stream",
     "text": [
      "[ 0.6639389  0.2882417  0.0151167]\n"
     ]
    },
    {
     "data": {
      "image/png": "[encoded data removed]",
      "text/plain": [
       "<matplotlib.figure.Figure at 0x7fc47e5b30d0>"
      ]
     },
     "metadata": {},
     "output_type": "display_data"
    }
   ],
   "source": [
    "inputDf=log2Df\n",
    "pcaM=pca.fit_transform(inputDf.T)\n",
    "pcaDf=pd.DataFrame(pcaM,index=inputDf.columns,columns=['1','2','3'])\n",
    "print pca.explained_variance_ratio_\n",
    "#sns.pairplot( pcaDf.reset_index(),hue='level_1')\n",
    "tmpDf=pcaDf.reset_index()\n",
    "tmpDf['name']=tmpDf['level_0']\n",
    "tmpDf2=tmpDf.iloc[:,3:].copy()\n",
    "g=sns.pairplot(tmpDf2,hue='name')\n",
    "g.savefig(baseDataOutDir+'/log2_PCA.pdf')"
   ]
  },
  {
   "cell_type": "code",
   "execution_count": 66,
   "metadata": {
    "collapsed": false
   },
   "outputs": [
    {
     "name": "stdout",
     "output_type": "stream",
     "text": [
      "[ 0.33744234  0.14231429  0.08967606]\n"
     ]
    },
    {
     "data": {
      "image/png": "[encoded data removed]",
      "text/plain": [
       "<matplotlib.figure.Figure at 0x7fc47e7121d0>"
      ]
     },
     "metadata": {},
     "output_type": "display_data"
    }
   ],
   "source": [
    "inputDf=withinZNorm\n",
    "pcaM=pca.fit_transform(inputDf.T)\n",
    "pcaDf=pd.DataFrame(pcaM,index=inputDf.columns,columns=['1','2','3'])\n",
    "print pca.explained_variance_ratio_\n",
    "#sns.pairplot( pcaDf.reset_index(),hue='level_1')\n",
    "tmpDf=pcaDf.reset_index()\n",
    "tmpDf['name']=tmpDf['level_1']\n",
    "tmpDf2=tmpDf.iloc[:,3:].copy()\n",
    "g=sns.pairplot(tmpDf2,hue='name')\n",
    "g.savefig(baseDataOutDir+'/z_transformed_PCA.pdf')"
   ]
  },
  {
   "cell_type": "markdown",
   "metadata": {},
   "source": [
    "## pan cancer"
   ]
  },
  {
   "cell_type": "code",
   "execution_count": 67,
   "metadata": {
    "collapsed": false
   },
   "outputs": [],
   "source": [
    "diseaseToPValue={}\n",
    "#\n",
    "#stage='II'\n",
    "#stageMask=metaDf.grade.str.contains('^Stage [I]{1,2}[ABC]?$')==True\n",
    "#stageRegex=''\n",
    "#StageRegex=stageToPatternDict[stage]\n",
    "#gradeMask=(metaDf.grade.fillna('').str.contains(StageRegex))\n",
    "stageMetaDf=metaDf[(metaDf.sample_type=='TP')&(~metaDf.filename.str.contains('bam'))]\n",
    "diseasePatientCount=stageMetaDf.disease.value_counts()\n",
    "validDiseases=diseasePatientCount.index[diseasePatientCount>4]\n",
    "diseaseToN_PerGroup={}\n",
    "diseaseToN={}\n",
    "for cancerType in validDiseases:\n",
    "    mySubMetaDf=stageMetaDf[stageMetaDf.disease==cancerType]\n",
    "    subTcgaDf=tcgaGeneDf.loc[tcgaGeneDf.index.isin(myTargetGeneList),tcgaGeneDf.columns.isin(mySubMetaDf.index)]\n",
    "    log2SubTcgaDf=np.log2(subTcgaDf+1)\n",
    "    pcaM=pca.fit_transform(log2SubTcgaDf.T)\n",
    "    patientPcaDf=pd.DataFrame(pcaM,index=log2SubTcgaDf.columns,columns=['1','2','3'])\n",
    "    meanA=log2SubTcgaDf.loc[:,patientPcaDf['1']<=patientPcaDf['1'].quantile(quantile)].mean().mean()\n",
    "    meanB=log2SubTcgaDf.loc[:,patientPcaDf['1']>=patientPcaDf['1'].quantile(1-quantile)].mean().mean()\n",
    "    expressionS=(-patientPcaDf['1']) if meanB<meanA else patientPcaDf['1']\n",
    "    \n",
    "    lExprPatients=expressionS.index[expressionS<=expressionS.quantile(quantile)]\n",
    "    hExprPatients=expressionS.index[expressionS>=expressionS.quantile(1-quantile)]\n",
    "    lDf,hDf=metaDf.loc[metaDf.index.isin(lExprPatients)],metaDf.loc[metaDf.index.isin(hExprPatients)]\n",
    "    result=logrank_test(hDf['T'],lDf['T'],hDf['E'],lDf['E'])\n",
    "    diseaseToPValue[cancerType]=result.p_value\n",
    "    diseaseToN_PerGroup[cancerType]=len(lExprPatients)\n",
    "    diseaseToN[cancerType]=len(expressionS)"
   ]
  },
  {
   "cell_type": "code",
   "execution_count": 68,
   "metadata": {
    "collapsed": false
   },
   "outputs": [
    {
     "data": {
      "text/plain": [
       "4.573019027709961"
      ]
     },
     "execution_count": 68,
     "metadata": {},
     "output_type": "execute_result"
    }
   ],
   "source": [
    "###check the PC1 expression cohort \n",
    "overA=log2SubTcgaDf.loc[:,patientPcaDf['1']<=patientPcaDf['1'].quantile(quantile)].mean().mean()\n",
    "overB=log2SubTcgaDf.loc[:,patientPcaDf['1']>=patientPcaDf['1'].quantile(1-quantile)].mean().mean()\n",
    "overA"
   ]
  },
  {
   "cell_type": "code",
   "execution_count": 69,
   "metadata": {
    "collapsed": false,
    "scrolled": false
   },
   "outputs": [],
   "source": [
    "sampleSizeDf=pd.DataFrame({'log_rank_p':pd.Series(diseaseToPValue).sort_values(),\n",
    "                           'n_per_group':pd.Series(diseaseToN_PerGroup),\n",
    "            'n':pd.Series(diseaseToN)}).sort_values('log_rank_p')\n",
    "tcga_log_rankDf=sampleSizeDf"
   ]
  },
  {
   "cell_type": "code",
   "execution_count": 70,
   "metadata": {
    "collapsed": false
   },
   "outputs": [],
   "source": [
    "diseaseToPValue={}\n",
    "stageMetaDf=metaDf[(metaDf.sample_type=='TP')&(~metaDf.filename.str.contains('bam'))]\n",
    "diseasePatientCount=stageMetaDf.disease.value_counts()\n",
    "validDiseases=diseasePatientCount.index[diseasePatientCount>4]\n",
    "diseaseToN={}\n",
    "myCoxDfList=[]\n",
    "for cancerType in validDiseases:\n",
    "    mySubMetaDf=stageMetaDf[stageMetaDf.disease==cancerType]\n",
    "    subTcgaDf=tcgaGeneDf.loc[tcgaGeneDf.index.isin(myTargetGeneList),tcgaGeneDf.columns.isin(mySubMetaDf.index)]\n",
    "    log2SubTcgaDf=np.log2(subTcgaDf+1)\n",
    "    pcaM=pca.fit_transform(log2SubTcgaDf.T)\n",
    "    patientPcaDf=pd.DataFrame(pcaM,index=log2SubTcgaDf.columns,columns=['1','2','3'])\n",
    "    meanA=log2SubTcgaDf.loc[:,patientPcaDf['1']<=patientPcaDf['1'].quantile(quantile)].mean().mean()\n",
    "    meanB=log2SubTcgaDf.loc[:,patientPcaDf['1']>=patientPcaDf['1'].quantile(1-quantile)].mean().mean()\n",
    "    expressionS=(-patientPcaDf['1']) if meanB<meanA else patientPcaDf['1']\n",
    "\n",
    "    mySubMetaDf.loc[:,'VM_score']=expressionS\n",
    "    cf.fit(mySubMetaDf[['age','VM_score','E','T']].dropna(),'T',event_col='E')\n",
    "    tmpDf=cf.summary.copy()\n",
    "    tmpDf['cancer_type']=cancerType\n",
    "    myCoxDfList.append(tmpDf)"
   ]
  },
  {
   "cell_type": "code",
   "execution_count": 72,
   "metadata": {
    "collapsed": false
   },
   "outputs": [],
   "source": [
    "mergedCoxDf=pd.concat(myCoxDfList,axis=0)"
   ]
  },
  {
   "cell_type": "code",
   "execution_count": 73,
   "metadata": {
    "collapsed": false
   },
   "outputs": [],
   "source": [
    "mergedCoxDf['covar']=mergedCoxDf.index"
   ]
  },
  {
   "cell_type": "code",
   "execution_count": 75,
   "metadata": {
    "collapsed": false
   },
   "outputs": [],
   "source": [
    "all_coxDf=mergedCoxDf.set_index(['cancer_type','covar'])"
   ]
  },
  {
   "cell_type": "code",
   "execution_count": 76,
   "metadata": {
    "collapsed": false,
    "scrolled": false
   },
   "outputs": [],
   "source": [
    "excel=pd.ExcelWriter(baseDataOutDir+'all_cox.xlsx')\n",
    "all_coxDf.to_excel(excel)\n",
    "excel.close()"
   ]
  },
  {
   "cell_type": "markdown",
   "metadata": {},
   "source": [
    "### generate venn digram"
   ]
  },
  {
   "cell_type": "code",
   "execution_count": 80,
   "metadata": {
    "collapsed": false
   },
   "outputs": [],
   "source": [
    "\n",
    "cellLineToGeneList={cellLine:set(imputedMeanFoldChangeDf.index[imputedMeanFoldChangeDf[cellLine]>1.5].tolist()) for cellLine in imputedMeanFoldChangeDf.columns}"
   ]
  },
  {
   "cell_type": "code",
   "execution_count": 81,
   "metadata": {
    "collapsed": false
   },
   "outputs": [
    {
     "name": "stderr",
     "output_type": "stream",
     "text": [
      "/cellar/users/btsui/anaconda2/lib/python2.7/site-packages/matplotlib/artist.py:233: MatplotlibDeprecationWarning: get_axes has been deprecated in mpl 1.5, please use the\n",
      "axes property.  A removal date has not been set.\n",
      "  stacklevel=1)\n"
     ]
    },
    {
     "data": {
      "image/png": "[encoded data removed]",
      "text/plain": [
       "<matplotlib.figure.Figure at 0x7fc47dbeec50>"
      ]
     },
     "metadata": {},
     "output_type": "display_data"
    }
   ],
   "source": [
    "from matplotlib_venn import venn3\n",
    "import matplotlib.pyplot as plt\n",
    "myPlot=plt.subplot()\n",
    "ax=myPlot.get_axes()\n",
    "venn3(subsets=cellLineToGeneList.values(),set_labels=cellLineToGeneList.keys(),ax=ax)\n",
    "ax.figure.savefig(baseDataOutDir+'/venn.pdf')"
   ]
  },
  {
   "cell_type": "markdown",
   "metadata": {
    "collapsed": false
   },
   "source": [
    "# load metabric data"
   ]
  },
  {
   "cell_type": "code",
   "execution_count": 83,
   "metadata": {
    "collapsed": true
   },
   "outputs": [],
   "source": [
    "bric_exprDir='./metabric/brca_metabric/data_expression.txt'"
   ]
  },
  {
   "cell_type": "code",
   "execution_count": 84,
   "metadata": {
    "collapsed": false
   },
   "outputs": [],
   "source": [
    "bric_clinDir='./metabric/brca_metabric/brca_metabric_clinical_data.tsv'"
   ]
  },
  {
   "cell_type": "code",
   "execution_count": 85,
   "metadata": {
    "collapsed": false
   },
   "outputs": [],
   "source": [
    "bric_exprDf=pd.read_csv(bric_exprDir,sep='\\t')"
   ]
  },
  {
   "cell_type": "code",
   "execution_count": 86,
   "metadata": {
    "collapsed": true
   },
   "outputs": [],
   "source": [
    "bric_clinDf=pd.read_csv(bric_clinDir,sep='\\t')"
   ]
  },
  {
   "cell_type": "code",
   "execution_count": 87,
   "metadata": {
    "collapsed": true
   },
   "outputs": [],
   "source": [
    "myTargetS=pd.Series(myTargetGeneList).str.replace('NREP','C5orf13')"
   ]
  },
  {
   "cell_type": "code",
   "execution_count": 88,
   "metadata": {
    "collapsed": false
   },
   "outputs": [],
   "source": [
    "metaBricSubDf=bric_exprDf[\n",
    "    bric_exprDf['Hugo_Symbol'].isin(myTargetS)].set_index('Hugo_Symbol').iloc[:,1:]"
   ]
  },
  {
   "cell_type": "code",
   "execution_count": 89,
   "metadata": {
    "collapsed": false
   },
   "outputs": [],
   "source": [
    "genelist_metaBricDf=metaBricSubDf.loc[myTargetS].fillna(0)"
   ]
  },
  {
   "cell_type": "code",
   "execution_count": 90,
   "metadata": {
    "collapsed": false
   },
   "outputs": [],
   "source": [
    "pcaM=pca_low_grade_brca.transform(genelist_metaBricDf.T)\n",
    "genelist_metaBricDf\n",
    "inPcaDf=genelist_metaBricDf\n",
    "pcaM=pca_low_grade_brca.fit_transform(inPcaDf.T)\n",
    "pc=0\n",
    "patientPcaDf=pd.DataFrame(pcaM,index=inPcaDf.columns,)\n",
    "meanA=inPcaDf.loc[:,patientPcaDf[pc]<=patientPcaDf[pc].quantile(quantile)].mean().mean()\n",
    "meanB=inPcaDf.loc[:,patientPcaDf[pc]>=patientPcaDf[pc].quantile(1-quantile)].mean().mean()\n",
    "bric_expressionS=(-patientPcaDf[pc]) if meanB<meanA else patientPcaDf[pc]\n"
   ]
  },
  {
   "cell_type": "code",
   "execution_count": 91,
   "metadata": {
    "collapsed": false
   },
   "outputs": [],
   "source": [
    "timeLabel='Overall Survival (Months)'\n",
    "eventLabel=\"Patient's Vital Status\"\n",
    "subtypeLabel='3-Gene classifier subtype'\n",
    "indexLabel='Patient ID'\n",
    "ageLabel='Age at Diagnosis'\n",
    "stageLabel='Tumor Stage'"
   ]
  },
  {
   "cell_type": "code",
   "execution_count": 92,
   "metadata": {
    "collapsed": false
   },
   "outputs": [],
   "source": [
    "bric_E=bric_clinDf[eventLabel].fillna('').str.contains('Died of Disease')"
   ]
  },
  {
   "cell_type": "code",
   "execution_count": 93,
   "metadata": {
    "collapsed": false
   },
   "outputs": [],
   "source": [
    "coxDf=bric_clinDf.set_index(indexLabel)[\n",
    "    [timeLabel,'Age at Diagnosis',subtypeLabel,stageLabel]]"
   ]
  },
  {
   "cell_type": "code",
   "execution_count": 94,
   "metadata": {
    "collapsed": false
   },
   "outputs": [],
   "source": [
    "coxDf['EVENT']=bric_E.astype(np.int).values"
   ]
  },
  {
   "cell_type": "code",
   "execution_count": 95,
   "metadata": {
    "collapsed": true
   },
   "outputs": [],
   "source": [
    "bric_clinDf['1']=1"
   ]
  },
  {
   "cell_type": "code",
   "execution_count": 96,
   "metadata": {
    "collapsed": false
   },
   "outputs": [],
   "source": [
    "brci_subtypeDf=bric_clinDf.set_index([subtypeLabel,indexLabel]\n",
    "                     )['1'].unstack().fillna(0).T"
   ]
  },
  {
   "cell_type": "code",
   "execution_count": 97,
   "metadata": {
    "collapsed": false
   },
   "outputs": [],
   "source": [
    "bric_subtypes=brci_subtypeDf.columns"
   ]
  },
  {
   "cell_type": "code",
   "execution_count": 98,
   "metadata": {
    "collapsed": false
   },
   "outputs": [],
   "source": [
    "brci_subtypeDf.columns=bric_subtypes"
   ]
  },
  {
   "cell_type": "code",
   "execution_count": 99,
   "metadata": {
    "collapsed": false
   },
   "outputs": [],
   "source": [
    "merged_subtypeDf=pd.concat([coxDf,brci_subtypeDf],axis=1)"
   ]
  },
  {
   "cell_type": "code",
   "execution_count": 100,
   "metadata": {
    "collapsed": false
   },
   "outputs": [],
   "source": [
    "merged_subtypeDf.loc[:,'VM_score']=bric_expressionS#(-bric_expressionS.loc[:] if flip else bric_expressionS.loc[:])"
   ]
  },
  {
   "cell_type": "code",
   "execution_count": 101,
   "metadata": {
    "collapsed": false
   },
   "outputs": [],
   "source": [
    "bric_validDf=merged_subtypeDf.dropna()"
   ]
  },
  {
   "cell_type": "code",
   "execution_count": 102,
   "metadata": {
    "collapsed": false
   },
   "outputs": [],
   "source": [
    "myStage=2\n",
    "stage_m=bric_validDf[stageLabel]==myStage\n",
    "mySubTypes=['ER+/HER2- High Prolif', 'ER+/HER2- Low Prolif', 'ER-/HER2-', 'HER2+']\n",
    "inCoxDf=bric_validDf[stage_m][['VM_score',ageLabel,\\\n",
    "                      'EVENT',timeLabel]+\n",
    "                     ['ER+/HER2- High Prolif', 'ER+/HER2- Low Prolif', 'ER-/HER2-']].copy()"
   ]
  },
  {
   "cell_type": "code",
   "execution_count": 103,
   "metadata": {
    "collapsed": false
   },
   "outputs": [
    {
     "data": {
      "text/plain": [
       "'\\nfigure how the high VM with the low VM \\n'"
      ]
     },
     "execution_count": 103,
     "metadata": {},
     "output_type": "execute_result"
    }
   ],
   "source": [
    "\"\"\"\n",
    "figure how the high VM with the low VM \n",
    "\"\"\""
   ]
  },
  {
   "cell_type": "code",
   "execution_count": 104,
   "metadata": {
    "collapsed": false
   },
   "outputs": [],
   "source": [
    "excel=pd.ExcelWriter(baseDataOutDir+'metabric_cox.xlsx')\n",
    "cf.fit(inCoxDf,timeLabel,event_col='EVENT')\n",
    "erly_df=cf.summary\n",
    "erly_df.to_excel(excel,sheet_name=\"stage \"+str(myStage))\n",
    "excel.close()"
   ]
  },
  {
   "cell_type": "code",
   "execution_count": 106,
   "metadata": {
    "collapsed": false
   },
   "outputs": [
    {
     "data": {
      "text/plain": [
       "<matplotlib.text.Text at 0x7fc481fccd50>"
      ]
     },
     "execution_count": 106,
     "metadata": {},
     "output_type": "execute_result"
    },
    {
     "data": {
      "image/png": "[encoded data removed]",
      "text/plain": [
       "<matplotlib.figure.Figure at 0x7fc47db96050>"
      ]
     },
     "metadata": {},
     "output_type": "display_data"
    }
   ],
   "source": [
    "selectedSubtypes=bric_clinDf[subtypeLabel].value_counts().index#[:3]\n",
    "downSampledBricDf=bric_validDf[bric_validDf[subtypeLabel].isin(selectedSubtypes)\n",
    "                               \n",
    "                              ].groupby(subtypeLabel).head(bric_validDf[subtypeLabel].value_counts().min())\n",
    "\n",
    "g=sns.boxplot(data=downSampledBricDf[downSampledBricDf[stageLabel]==1],y='VM_score',x=subtypeLabel,color='White')\n",
    "g.legend([])\n",
    "\n",
    "A=downSampledBricDf[downSampledBricDf[subtypeLabel]=='ER-/HER2-']['VM_score']\n",
    "B=downSampledBricDf[~(downSampledBricDf[subtypeLabel]=='ER-/HER2-')]['VM_score']\n",
    "t,p=ttest_ind(A,B)\n",
    "g.set_title('t:{t} p:{p}'.format(t=t,p=p))"
   ]
  },
  {
   "cell_type": "code",
   "execution_count": 107,
   "metadata": {
    "collapsed": true
   },
   "outputs": [],
   "source": [
    "g.figure.savefig(baseDataOutDir+'VM_score_metabric_subtype.pdf')"
   ]
  },
  {
   "cell_type": "code",
   "execution_count": 108,
   "metadata": {
    "collapsed": false
   },
   "outputs": [],
   "source": [
    "fondSize=20\n",
    "params = {'legend.fontsize': fondSize,\n",
    "          'figure.figsize': (10, 5),\n",
    "         'axes.labelsize': fondSize,\n",
    "         'axes.titlesize':fondSize,\n",
    "         'xtick.labelsize':fondSize,\n",
    "         'ytick.labelsize':fondSize}\n",
    "mpl.rcParams.update(params)"
   ]
  },
  {
   "cell_type": "markdown",
   "metadata": {},
   "source": [
    "### metabric stage I"
   ]
  },
  {
   "cell_type": "code",
   "execution_count": 110,
   "metadata": {
    "collapsed": false
   },
   "outputs": [
    {
     "data": {
      "image/png": "[encoded data removed]",
      "text/plain": [
       "<matplotlib.figure.Figure at 0x7fc47ebbcc90>"
      ]
     },
     "metadata": {},
     "output_type": "display_data"
    }
   ],
   "source": [
    "\n",
    "my_meta_bric=1\n",
    "tripNegDf=bric_validDf[(bric_validDf['Tumor Stage']==my_meta_bric)]#[(bric_validDf[subtypeLabel]=='ER-/HER2-')&(bric_validDf['EVENT'])&(bric_validDf['Tumor Stage']==1)]\n",
    "\n",
    "tripNegCoxDf=tripNegDf[[timeLabel,ageLabel,'EVENT','VM_score']]\n",
    "cf.fit(tripNegCoxDf,timeLabel,event_col='EVENT')\n",
    "cf.summary\n",
    "\n",
    "bric_validDf['Tumor Stage'].value_counts()\n",
    "\n",
    "\"\"\"\n",
    "check results with Chisquare \n",
    "\"\"\"\n",
    "topQ=0.3\n",
    "hdf=tripNegCoxDf[tripNegCoxDf.VM_score>=tripNegCoxDf.VM_score.quantile(1-topQ)]\n",
    "ldf=tripNegCoxDf[tripNegCoxDf.VM_score<=tripNegCoxDf.VM_score.quantile(topQ)]\n",
    "\n",
    "log_rank_p=logrank_test(hdf[timeLabel],ldf[timeLabel],hdf['EVENT'],ldf['EVENT'])\n",
    "kmf = KaplanMeierFitter()\n",
    "ax = plt.subplot(111)\n",
    "kmf.fit(ldf[timeLabel]*30, event_observed=ldf['EVENT'], label=bottomGroupLabel)\n",
    "kmf.plot(ax=ax,show_censors=True,ci_show=False)\n",
    "kmf.fit(hdf[timeLabel]*30, event_observed=hdf['EVENT'], label=topGroupLabel)\n",
    "kmf.plot(ax=ax,show_censors=True,ci_show=False)\n",
    "ax.set_title('p:{p}'.format(p=\"%.4f\"%(log_rank_p.p_value)))\n",
    "ax.set_xlabel('days')\n",
    "ax.set_ylabel('Cumulative survival rate %')\n",
    "ax.figure.savefig(baseDataOutDir+'metabric_stage_km_{stage}.eps'.format(stage=my_meta_bric),bbox_inches='tight')"
   ]
  }
 ],
 "metadata": {
  "kernelspec": {
   "display_name": "Python 2",
   "language": "python",
   "name": "python2"
  },
  "language_info": {
   "codemirror_mode": {
    "name": "ipython",
    "version": 2
   },
   "file_extension": ".py",
   "mimetype": "text/x-python",
   "name": "python",
   "nbconvert_exporter": "python",
   "pygments_lexer": "ipython2",
   "version": "2.7.13"
  }
 },
 "nbformat": 4,
 "nbformat_minor": 0
}
